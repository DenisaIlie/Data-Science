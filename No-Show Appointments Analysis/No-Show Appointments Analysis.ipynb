{
 "cells": [
  {
   "cell_type": "markdown",
   "metadata": {},
   "source": [
    "# Project: Investigate No-Show Appointments Data From Kaggle \n",
    "\n",
    "## Table of Contents\n",
    "<ul>\n",
    "<li><a href=\"#intro\">Introduction</a></li>\n",
    "<li><a href=\"#wrangling\">Data Wrangling</a></li>\n",
    "<li><a href=\"#eda\">Exploratory Data Analysis</a></li>\n",
    "<li><a href=\"#conclusions\">Conclusions</a></li>\n",
    "</ul>"
   ]
  },
  {
   "cell_type": "markdown",
   "metadata": {},
   "source": [
    "<a id='intro'></a>\n",
    "## Introduction\n",
    "\n",
    "> For this project I chose the \"No-show appointments\" dataset from Kaggle. It contains information for 100k medical appointments in Brazil and is focused on the question of whether or not patients show up for their appointment. It records data for patient id, appointment id, gender, age, appointment date, location of the hospital, whether or not the patient is enrolled in Brasilian welfare program, whether or not the patient is suffering for Hipertension, Diabetes, Alcoholism or, if the patient has a special contition, the number of Handicaps that he has,  whether or not the patient has received a SMS and their final decision encoded with 'Yes' if it was a \"No-show\" and with 'No' if the patient showed up for his appointment. \n",
    "\n",
    "\n"
   ]
  },
  {
   "cell_type": "code",
   "execution_count": 24,
   "metadata": {},
   "outputs": [],
   "source": [
    "## import all necessary packages and functions.\n",
    "import numpy as np # use to customize xticks on a histogram \n",
    "import pandas as pd # use for data analysis workflow\n",
    "import matplotlib.pyplot as plt # use to plot data on a histogram\n",
    "import seaborn as sns\n",
    "import math\n",
    "%matplotlib inline "
   ]
  },
  {
   "cell_type": "markdown",
   "metadata": {},
   "source": [
    "<a id='wrangling'></a>\n",
    "## Data Wrangling\n",
    "\n",
    "> In the next steps I read the csv file, displayed the first rows of it, I glanced at the data types in each column, and showed a descriptive statistics of each field. Thus, we noticed that date-type fields are not exactly in the best format for analysis, and the age field contains an aberrant value, -1, assuming the 0 value on the age column corresponds to the newborn. Otherwise, there are no other gaps in the data. In order to preserve the meaning of the data, I chose to replace this value with the average age.  \n",
    "\n",
    "### General Properties"
   ]
  },
  {
   "cell_type": "code",
   "execution_count": 25,
   "metadata": {},
   "outputs": [
    {
     "data": {
      "text/html": [
       "<div>\n",
       "<style>\n",
       "    .dataframe thead tr:only-child th {\n",
       "        text-align: right;\n",
       "    }\n",
       "\n",
       "    .dataframe thead th {\n",
       "        text-align: left;\n",
       "    }\n",
       "\n",
       "    .dataframe tbody tr th {\n",
       "        vertical-align: top;\n",
       "    }\n",
       "</style>\n",
       "<table border=\"1\" class=\"dataframe\">\n",
       "  <thead>\n",
       "    <tr style=\"text-align: right;\">\n",
       "      <th></th>\n",
       "      <th>AppointmentID</th>\n",
       "      <th>Gender</th>\n",
       "      <th>ScheduledDay</th>\n",
       "      <th>AppointmentDay</th>\n",
       "      <th>Age</th>\n",
       "      <th>Neighbourhood</th>\n",
       "      <th>Scholarship</th>\n",
       "      <th>Hipertension</th>\n",
       "      <th>Diabetes</th>\n",
       "      <th>Alcoholism</th>\n",
       "      <th>Handcap</th>\n",
       "      <th>SMS_received</th>\n",
       "      <th>No-show</th>\n",
       "    </tr>\n",
       "    <tr>\n",
       "      <th>PatientId</th>\n",
       "      <th></th>\n",
       "      <th></th>\n",
       "      <th></th>\n",
       "      <th></th>\n",
       "      <th></th>\n",
       "      <th></th>\n",
       "      <th></th>\n",
       "      <th></th>\n",
       "      <th></th>\n",
       "      <th></th>\n",
       "      <th></th>\n",
       "      <th></th>\n",
       "      <th></th>\n",
       "    </tr>\n",
       "  </thead>\n",
       "  <tbody>\n",
       "    <tr>\n",
       "      <th>2.987250e+13</th>\n",
       "      <td>5642903</td>\n",
       "      <td>F</td>\n",
       "      <td>2016-04-29 18:38:08</td>\n",
       "      <td>2016-04-29</td>\n",
       "      <td>62</td>\n",
       "      <td>JARDIM DA PENHA</td>\n",
       "      <td>0</td>\n",
       "      <td>1</td>\n",
       "      <td>0</td>\n",
       "      <td>0</td>\n",
       "      <td>0</td>\n",
       "      <td>0</td>\n",
       "      <td>No</td>\n",
       "    </tr>\n",
       "    <tr>\n",
       "      <th>5.589978e+14</th>\n",
       "      <td>5642503</td>\n",
       "      <td>M</td>\n",
       "      <td>2016-04-29 16:08:27</td>\n",
       "      <td>2016-04-29</td>\n",
       "      <td>56</td>\n",
       "      <td>JARDIM DA PENHA</td>\n",
       "      <td>0</td>\n",
       "      <td>0</td>\n",
       "      <td>0</td>\n",
       "      <td>0</td>\n",
       "      <td>0</td>\n",
       "      <td>0</td>\n",
       "      <td>No</td>\n",
       "    </tr>\n",
       "    <tr>\n",
       "      <th>4.262962e+12</th>\n",
       "      <td>5642549</td>\n",
       "      <td>F</td>\n",
       "      <td>2016-04-29 16:19:04</td>\n",
       "      <td>2016-04-29</td>\n",
       "      <td>62</td>\n",
       "      <td>MATA DA PRAIA</td>\n",
       "      <td>0</td>\n",
       "      <td>0</td>\n",
       "      <td>0</td>\n",
       "      <td>0</td>\n",
       "      <td>0</td>\n",
       "      <td>0</td>\n",
       "      <td>No</td>\n",
       "    </tr>\n",
       "    <tr>\n",
       "      <th>8.679512e+11</th>\n",
       "      <td>5642828</td>\n",
       "      <td>F</td>\n",
       "      <td>2016-04-29 17:29:31</td>\n",
       "      <td>2016-04-29</td>\n",
       "      <td>8</td>\n",
       "      <td>PONTAL DE CAMBURI</td>\n",
       "      <td>0</td>\n",
       "      <td>0</td>\n",
       "      <td>0</td>\n",
       "      <td>0</td>\n",
       "      <td>0</td>\n",
       "      <td>0</td>\n",
       "      <td>No</td>\n",
       "    </tr>\n",
       "    <tr>\n",
       "      <th>8.841186e+12</th>\n",
       "      <td>5642494</td>\n",
       "      <td>F</td>\n",
       "      <td>2016-04-29 16:07:23</td>\n",
       "      <td>2016-04-29</td>\n",
       "      <td>56</td>\n",
       "      <td>JARDIM DA PENHA</td>\n",
       "      <td>0</td>\n",
       "      <td>1</td>\n",
       "      <td>1</td>\n",
       "      <td>0</td>\n",
       "      <td>0</td>\n",
       "      <td>0</td>\n",
       "      <td>No</td>\n",
       "    </tr>\n",
       "  </tbody>\n",
       "</table>\n",
       "</div>"
      ],
      "text/plain": [
       "              AppointmentID Gender        ScheduledDay AppointmentDay  Age  \\\n",
       "PatientId                                                                    \n",
       "2.987250e+13        5642903      F 2016-04-29 18:38:08     2016-04-29   62   \n",
       "5.589978e+14        5642503      M 2016-04-29 16:08:27     2016-04-29   56   \n",
       "4.262962e+12        5642549      F 2016-04-29 16:19:04     2016-04-29   62   \n",
       "8.679512e+11        5642828      F 2016-04-29 17:29:31     2016-04-29    8   \n",
       "8.841186e+12        5642494      F 2016-04-29 16:07:23     2016-04-29   56   \n",
       "\n",
       "                  Neighbourhood  Scholarship  Hipertension  Diabetes  \\\n",
       "PatientId                                                              \n",
       "2.987250e+13    JARDIM DA PENHA            0             1         0   \n",
       "5.589978e+14    JARDIM DA PENHA            0             0         0   \n",
       "4.262962e+12      MATA DA PRAIA            0             0         0   \n",
       "8.679512e+11  PONTAL DE CAMBURI            0             0         0   \n",
       "8.841186e+12    JARDIM DA PENHA            0             1         1   \n",
       "\n",
       "              Alcoholism  Handcap  SMS_received No-show  \n",
       "PatientId                                                \n",
       "2.987250e+13           0        0             0      No  \n",
       "5.589978e+14           0        0             0      No  \n",
       "4.262962e+12           0        0             0      No  \n",
       "8.679512e+11           0        0             0      No  \n",
       "8.841186e+12           0        0             0      No  "
      ]
     },
     "execution_count": 25,
     "metadata": {},
     "output_type": "execute_result"
    }
   ],
   "source": [
    "# Load your data and print out a few lines. Perform operations to inspect data\n",
    "#   types and look for instances of missing or possibly errant data.\n",
    "medical_appointments = pd.read_csv(\"noshowappointments.csv\", parse_dates=[\"ScheduledDay\",\"AppointmentDay\"], index_col=0)\n",
    "# I have changed the fields ScheduledDay and AppointmentDay into proper date types and I have indexed the table by PatientId\n",
    "medical_appointments.head() # I have showed the first few lines of the DataFrame"
   ]
  },
  {
   "cell_type": "code",
   "execution_count": 26,
   "metadata": {},
   "outputs": [
    {
     "data": {
      "text/plain": [
       "Index(['AppointmentID', 'Gender', 'ScheduledDay', 'AppointmentDay', 'Age',\n",
       "       'Neighbourhood', 'Scholarship', 'Hipertension', 'Diabetes',\n",
       "       'Alcoholism', 'Handcap', 'SMS_received', 'No-show'],\n",
       "      dtype='object')"
      ]
     },
     "execution_count": 26,
     "metadata": {},
     "output_type": "execute_result"
    }
   ],
   "source": [
    "medical_appointments.columns # I have displayed the name of the fields in the DataFrame"
   ]
  },
  {
   "cell_type": "code",
   "execution_count": 27,
   "metadata": {},
   "outputs": [
    {
     "data": {
      "text/plain": [
       "AppointmentID              int64\n",
       "Gender                    object\n",
       "ScheduledDay      datetime64[ns]\n",
       "AppointmentDay    datetime64[ns]\n",
       "Age                        int64\n",
       "Neighbourhood             object\n",
       "Scholarship                int64\n",
       "Hipertension               int64\n",
       "Diabetes                   int64\n",
       "Alcoholism                 int64\n",
       "Handcap                    int64\n",
       "SMS_received               int64\n",
       "No-show                   object\n",
       "dtype: object"
      ]
     },
     "execution_count": 27,
     "metadata": {},
     "output_type": "execute_result"
    }
   ],
   "source": [
    "medical_appointments.dtypes # I have displayed the fields data types"
   ]
  },
  {
   "cell_type": "code",
   "execution_count": 28,
   "metadata": {},
   "outputs": [
    {
     "name": "stdout",
     "output_type": "stream",
     "text": [
      "<class 'numpy.int64'>\n",
      "<class 'str'>\n",
      "<class 'pandas._libs.tslib.Timestamp'>\n",
      "<class 'pandas._libs.tslib.Timestamp'>\n",
      "<class 'numpy.int64'>\n",
      "<class 'str'>\n",
      "<class 'numpy.int64'>\n",
      "<class 'numpy.int64'>\n",
      "<class 'numpy.int64'>\n",
      "<class 'numpy.int64'>\n",
      "<class 'numpy.int64'>\n",
      "<class 'numpy.int64'>\n",
      "<class 'str'>\n"
     ]
    }
   ],
   "source": [
    "print(type(medical_appointments[\"AppointmentID\"].iloc[0]))\n",
    "print(type(medical_appointments[\"Gender\"].iloc[0]))\n",
    "print(type(medical_appointments[\"ScheduledDay\"].iloc[0]))\n",
    "print(type(medical_appointments[\"AppointmentDay\"].iloc[0]))\n",
    "print(type(medical_appointments[\"Age\"].iloc[0]))\n",
    "print(type(medical_appointments[\"Neighbourhood\"].iloc[0]))\n",
    "print(type(medical_appointments[\"Scholarship\"].iloc[0]))\n",
    "print(type(medical_appointments[\"Hipertension\"].iloc[0]))\n",
    "print(type(medical_appointments[\"Diabetes\"].iloc[0]))\n",
    "print(type(medical_appointments[\"Alcoholism\"].iloc[0]))\n",
    "print(type(medical_appointments[\"Handcap\"].iloc[0]))\n",
    "print(type(medical_appointments[\"SMS_received\"].iloc[0]))\n",
    "print(type(medical_appointments[\"No-show\"].iloc[0]))\n",
    "# I have displayed the data type of the first record in each field. "
   ]
  },
  {
   "cell_type": "code",
   "execution_count": 29,
   "metadata": {},
   "outputs": [
    {
     "data": {
      "text/plain": [
       "AppointmentID     False\n",
       "Gender            False\n",
       "ScheduledDay      False\n",
       "AppointmentDay    False\n",
       "Age               False\n",
       "Neighbourhood     False\n",
       "Scholarship       False\n",
       "Hipertension      False\n",
       "Diabetes          False\n",
       "Alcoholism        False\n",
       "Handcap           False\n",
       "SMS_received      False\n",
       "No-show           False\n",
       "dtype: bool"
      ]
     },
     "execution_count": 29,
     "metadata": {},
     "output_type": "execute_result"
    }
   ],
   "source": [
    "medical_appointments.isnull().any()\n",
    "# I have checked if there are any null values in the DataFrame. "
   ]
  },
  {
   "cell_type": "code",
   "execution_count": 30,
   "metadata": {},
   "outputs": [
    {
     "data": {
      "text/html": [
       "<div>\n",
       "<style>\n",
       "    .dataframe thead tr:only-child th {\n",
       "        text-align: right;\n",
       "    }\n",
       "\n",
       "    .dataframe thead th {\n",
       "        text-align: left;\n",
       "    }\n",
       "\n",
       "    .dataframe tbody tr th {\n",
       "        vertical-align: top;\n",
       "    }\n",
       "</style>\n",
       "<table border=\"1\" class=\"dataframe\">\n",
       "  <thead>\n",
       "    <tr style=\"text-align: right;\">\n",
       "      <th></th>\n",
       "      <th>AppointmentID</th>\n",
       "      <th>Gender</th>\n",
       "      <th>ScheduledDay</th>\n",
       "      <th>AppointmentDay</th>\n",
       "      <th>Age</th>\n",
       "      <th>Neighbourhood</th>\n",
       "      <th>Scholarship</th>\n",
       "      <th>Hipertension</th>\n",
       "      <th>Diabetes</th>\n",
       "      <th>Alcoholism</th>\n",
       "      <th>Handcap</th>\n",
       "      <th>SMS_received</th>\n",
       "      <th>No-show</th>\n",
       "    </tr>\n",
       "  </thead>\n",
       "  <tbody>\n",
       "    <tr>\n",
       "      <th>count</th>\n",
       "      <td>1.105270e+05</td>\n",
       "      <td>110527</td>\n",
       "      <td>110527</td>\n",
       "      <td>110527</td>\n",
       "      <td>110527.000000</td>\n",
       "      <td>110527</td>\n",
       "      <td>110527.000000</td>\n",
       "      <td>110527.000000</td>\n",
       "      <td>110527.000000</td>\n",
       "      <td>110527.000000</td>\n",
       "      <td>110527.000000</td>\n",
       "      <td>110527.000000</td>\n",
       "      <td>110527</td>\n",
       "    </tr>\n",
       "    <tr>\n",
       "      <th>unique</th>\n",
       "      <td>NaN</td>\n",
       "      <td>2</td>\n",
       "      <td>103549</td>\n",
       "      <td>27</td>\n",
       "      <td>NaN</td>\n",
       "      <td>81</td>\n",
       "      <td>NaN</td>\n",
       "      <td>NaN</td>\n",
       "      <td>NaN</td>\n",
       "      <td>NaN</td>\n",
       "      <td>NaN</td>\n",
       "      <td>NaN</td>\n",
       "      <td>2</td>\n",
       "    </tr>\n",
       "    <tr>\n",
       "      <th>top</th>\n",
       "      <td>NaN</td>\n",
       "      <td>F</td>\n",
       "      <td>2016-05-06 07:09:54</td>\n",
       "      <td>2016-06-06 00:00:00</td>\n",
       "      <td>NaN</td>\n",
       "      <td>JARDIM CAMBURI</td>\n",
       "      <td>NaN</td>\n",
       "      <td>NaN</td>\n",
       "      <td>NaN</td>\n",
       "      <td>NaN</td>\n",
       "      <td>NaN</td>\n",
       "      <td>NaN</td>\n",
       "      <td>No</td>\n",
       "    </tr>\n",
       "    <tr>\n",
       "      <th>freq</th>\n",
       "      <td>NaN</td>\n",
       "      <td>71840</td>\n",
       "      <td>24</td>\n",
       "      <td>4692</td>\n",
       "      <td>NaN</td>\n",
       "      <td>7717</td>\n",
       "      <td>NaN</td>\n",
       "      <td>NaN</td>\n",
       "      <td>NaN</td>\n",
       "      <td>NaN</td>\n",
       "      <td>NaN</td>\n",
       "      <td>NaN</td>\n",
       "      <td>88208</td>\n",
       "    </tr>\n",
       "    <tr>\n",
       "      <th>first</th>\n",
       "      <td>NaN</td>\n",
       "      <td>NaN</td>\n",
       "      <td>2015-11-10 07:13:56</td>\n",
       "      <td>2016-04-29 00:00:00</td>\n",
       "      <td>NaN</td>\n",
       "      <td>NaN</td>\n",
       "      <td>NaN</td>\n",
       "      <td>NaN</td>\n",
       "      <td>NaN</td>\n",
       "      <td>NaN</td>\n",
       "      <td>NaN</td>\n",
       "      <td>NaN</td>\n",
       "      <td>NaN</td>\n",
       "    </tr>\n",
       "    <tr>\n",
       "      <th>last</th>\n",
       "      <td>NaN</td>\n",
       "      <td>NaN</td>\n",
       "      <td>2016-06-08 20:07:23</td>\n",
       "      <td>2016-06-08 00:00:00</td>\n",
       "      <td>NaN</td>\n",
       "      <td>NaN</td>\n",
       "      <td>NaN</td>\n",
       "      <td>NaN</td>\n",
       "      <td>NaN</td>\n",
       "      <td>NaN</td>\n",
       "      <td>NaN</td>\n",
       "      <td>NaN</td>\n",
       "      <td>NaN</td>\n",
       "    </tr>\n",
       "    <tr>\n",
       "      <th>mean</th>\n",
       "      <td>5.675305e+06</td>\n",
       "      <td>NaN</td>\n",
       "      <td>NaN</td>\n",
       "      <td>NaN</td>\n",
       "      <td>37.088874</td>\n",
       "      <td>NaN</td>\n",
       "      <td>0.098266</td>\n",
       "      <td>0.197246</td>\n",
       "      <td>0.071865</td>\n",
       "      <td>0.030400</td>\n",
       "      <td>0.022248</td>\n",
       "      <td>0.321026</td>\n",
       "      <td>NaN</td>\n",
       "    </tr>\n",
       "    <tr>\n",
       "      <th>std</th>\n",
       "      <td>7.129575e+04</td>\n",
       "      <td>NaN</td>\n",
       "      <td>NaN</td>\n",
       "      <td>NaN</td>\n",
       "      <td>23.110205</td>\n",
       "      <td>NaN</td>\n",
       "      <td>0.297675</td>\n",
       "      <td>0.397921</td>\n",
       "      <td>0.258265</td>\n",
       "      <td>0.171686</td>\n",
       "      <td>0.161543</td>\n",
       "      <td>0.466873</td>\n",
       "      <td>NaN</td>\n",
       "    </tr>\n",
       "    <tr>\n",
       "      <th>min</th>\n",
       "      <td>5.030230e+06</td>\n",
       "      <td>NaN</td>\n",
       "      <td>NaN</td>\n",
       "      <td>NaN</td>\n",
       "      <td>-1.000000</td>\n",
       "      <td>NaN</td>\n",
       "      <td>0.000000</td>\n",
       "      <td>0.000000</td>\n",
       "      <td>0.000000</td>\n",
       "      <td>0.000000</td>\n",
       "      <td>0.000000</td>\n",
       "      <td>0.000000</td>\n",
       "      <td>NaN</td>\n",
       "    </tr>\n",
       "    <tr>\n",
       "      <th>25%</th>\n",
       "      <td>5.640286e+06</td>\n",
       "      <td>NaN</td>\n",
       "      <td>NaN</td>\n",
       "      <td>NaN</td>\n",
       "      <td>18.000000</td>\n",
       "      <td>NaN</td>\n",
       "      <td>0.000000</td>\n",
       "      <td>0.000000</td>\n",
       "      <td>0.000000</td>\n",
       "      <td>0.000000</td>\n",
       "      <td>0.000000</td>\n",
       "      <td>0.000000</td>\n",
       "      <td>NaN</td>\n",
       "    </tr>\n",
       "    <tr>\n",
       "      <th>50%</th>\n",
       "      <td>5.680573e+06</td>\n",
       "      <td>NaN</td>\n",
       "      <td>NaN</td>\n",
       "      <td>NaN</td>\n",
       "      <td>37.000000</td>\n",
       "      <td>NaN</td>\n",
       "      <td>0.000000</td>\n",
       "      <td>0.000000</td>\n",
       "      <td>0.000000</td>\n",
       "      <td>0.000000</td>\n",
       "      <td>0.000000</td>\n",
       "      <td>0.000000</td>\n",
       "      <td>NaN</td>\n",
       "    </tr>\n",
       "    <tr>\n",
       "      <th>75%</th>\n",
       "      <td>5.725524e+06</td>\n",
       "      <td>NaN</td>\n",
       "      <td>NaN</td>\n",
       "      <td>NaN</td>\n",
       "      <td>55.000000</td>\n",
       "      <td>NaN</td>\n",
       "      <td>0.000000</td>\n",
       "      <td>0.000000</td>\n",
       "      <td>0.000000</td>\n",
       "      <td>0.000000</td>\n",
       "      <td>0.000000</td>\n",
       "      <td>1.000000</td>\n",
       "      <td>NaN</td>\n",
       "    </tr>\n",
       "    <tr>\n",
       "      <th>max</th>\n",
       "      <td>5.790484e+06</td>\n",
       "      <td>NaN</td>\n",
       "      <td>NaN</td>\n",
       "      <td>NaN</td>\n",
       "      <td>115.000000</td>\n",
       "      <td>NaN</td>\n",
       "      <td>1.000000</td>\n",
       "      <td>1.000000</td>\n",
       "      <td>1.000000</td>\n",
       "      <td>1.000000</td>\n",
       "      <td>4.000000</td>\n",
       "      <td>1.000000</td>\n",
       "      <td>NaN</td>\n",
       "    </tr>\n",
       "  </tbody>\n",
       "</table>\n",
       "</div>"
      ],
      "text/plain": [
       "        AppointmentID  Gender         ScheduledDay       AppointmentDay  \\\n",
       "count    1.105270e+05  110527               110527               110527   \n",
       "unique            NaN       2               103549                   27   \n",
       "top               NaN       F  2016-05-06 07:09:54  2016-06-06 00:00:00   \n",
       "freq              NaN   71840                   24                 4692   \n",
       "first             NaN     NaN  2015-11-10 07:13:56  2016-04-29 00:00:00   \n",
       "last              NaN     NaN  2016-06-08 20:07:23  2016-06-08 00:00:00   \n",
       "mean     5.675305e+06     NaN                  NaN                  NaN   \n",
       "std      7.129575e+04     NaN                  NaN                  NaN   \n",
       "min      5.030230e+06     NaN                  NaN                  NaN   \n",
       "25%      5.640286e+06     NaN                  NaN                  NaN   \n",
       "50%      5.680573e+06     NaN                  NaN                  NaN   \n",
       "75%      5.725524e+06     NaN                  NaN                  NaN   \n",
       "max      5.790484e+06     NaN                  NaN                  NaN   \n",
       "\n",
       "                  Age   Neighbourhood    Scholarship   Hipertension  \\\n",
       "count   110527.000000          110527  110527.000000  110527.000000   \n",
       "unique            NaN              81            NaN            NaN   \n",
       "top               NaN  JARDIM CAMBURI            NaN            NaN   \n",
       "freq              NaN            7717            NaN            NaN   \n",
       "first             NaN             NaN            NaN            NaN   \n",
       "last              NaN             NaN            NaN            NaN   \n",
       "mean        37.088874             NaN       0.098266       0.197246   \n",
       "std         23.110205             NaN       0.297675       0.397921   \n",
       "min         -1.000000             NaN       0.000000       0.000000   \n",
       "25%         18.000000             NaN       0.000000       0.000000   \n",
       "50%         37.000000             NaN       0.000000       0.000000   \n",
       "75%         55.000000             NaN       0.000000       0.000000   \n",
       "max        115.000000             NaN       1.000000       1.000000   \n",
       "\n",
       "             Diabetes     Alcoholism        Handcap   SMS_received No-show  \n",
       "count   110527.000000  110527.000000  110527.000000  110527.000000  110527  \n",
       "unique            NaN            NaN            NaN            NaN       2  \n",
       "top               NaN            NaN            NaN            NaN      No  \n",
       "freq              NaN            NaN            NaN            NaN   88208  \n",
       "first             NaN            NaN            NaN            NaN     NaN  \n",
       "last              NaN            NaN            NaN            NaN     NaN  \n",
       "mean         0.071865       0.030400       0.022248       0.321026     NaN  \n",
       "std          0.258265       0.171686       0.161543       0.466873     NaN  \n",
       "min          0.000000       0.000000       0.000000       0.000000     NaN  \n",
       "25%          0.000000       0.000000       0.000000       0.000000     NaN  \n",
       "50%          0.000000       0.000000       0.000000       0.000000     NaN  \n",
       "75%          0.000000       0.000000       0.000000       1.000000     NaN  \n",
       "max          1.000000       1.000000       4.000000       1.000000     NaN  "
      ]
     },
     "execution_count": 30,
     "metadata": {},
     "output_type": "execute_result"
    }
   ],
   "source": [
    "medical_appointments.describe(include=\"all\")\n",
    "# I have showed a descriptive statistics of the fields in the dataset. "
   ]
  },
  {
   "cell_type": "markdown",
   "metadata": {},
   "source": [
    "### Data Cleaning"
   ]
  },
  {
   "cell_type": "code",
   "execution_count": 31,
   "metadata": {},
   "outputs": [],
   "source": [
    "medical_appointments[\"Age\"].replace(-1,int(medical_appointments[\"Age\"].mean()),inplace=True)\n",
    "# I have replaced the aberant value -1 in the Age column with the mean of the field. "
   ]
  },
  {
   "cell_type": "code",
   "execution_count": 32,
   "metadata": {},
   "outputs": [
    {
     "data": {
      "text/html": [
       "<div>\n",
       "<style>\n",
       "    .dataframe thead tr:only-child th {\n",
       "        text-align: right;\n",
       "    }\n",
       "\n",
       "    .dataframe thead th {\n",
       "        text-align: left;\n",
       "    }\n",
       "\n",
       "    .dataframe tbody tr th {\n",
       "        vertical-align: top;\n",
       "    }\n",
       "</style>\n",
       "<table border=\"1\" class=\"dataframe\">\n",
       "  <thead>\n",
       "    <tr style=\"text-align: right;\">\n",
       "      <th></th>\n",
       "      <th>AppointmentID</th>\n",
       "      <th>Gender</th>\n",
       "      <th>ScheduledDay</th>\n",
       "      <th>AppointmentDay</th>\n",
       "      <th>Age</th>\n",
       "      <th>Neighbourhood</th>\n",
       "      <th>Scholarship</th>\n",
       "      <th>Hipertension</th>\n",
       "      <th>Diabetes</th>\n",
       "      <th>Alcoholism</th>\n",
       "      <th>Handcap</th>\n",
       "      <th>SMS_received</th>\n",
       "      <th>No-show</th>\n",
       "    </tr>\n",
       "  </thead>\n",
       "  <tbody>\n",
       "    <tr>\n",
       "      <th>count</th>\n",
       "      <td>1.105270e+05</td>\n",
       "      <td>110527</td>\n",
       "      <td>110527</td>\n",
       "      <td>110527</td>\n",
       "      <td>110527.000000</td>\n",
       "      <td>110527</td>\n",
       "      <td>110527.000000</td>\n",
       "      <td>110527.000000</td>\n",
       "      <td>110527.000000</td>\n",
       "      <td>110527.000000</td>\n",
       "      <td>110527.000000</td>\n",
       "      <td>110527.000000</td>\n",
       "      <td>110527</td>\n",
       "    </tr>\n",
       "    <tr>\n",
       "      <th>unique</th>\n",
       "      <td>NaN</td>\n",
       "      <td>2</td>\n",
       "      <td>103549</td>\n",
       "      <td>27</td>\n",
       "      <td>NaN</td>\n",
       "      <td>81</td>\n",
       "      <td>NaN</td>\n",
       "      <td>NaN</td>\n",
       "      <td>NaN</td>\n",
       "      <td>NaN</td>\n",
       "      <td>NaN</td>\n",
       "      <td>NaN</td>\n",
       "      <td>2</td>\n",
       "    </tr>\n",
       "    <tr>\n",
       "      <th>top</th>\n",
       "      <td>NaN</td>\n",
       "      <td>F</td>\n",
       "      <td>2016-05-06 07:09:54</td>\n",
       "      <td>2016-06-06 00:00:00</td>\n",
       "      <td>NaN</td>\n",
       "      <td>JARDIM CAMBURI</td>\n",
       "      <td>NaN</td>\n",
       "      <td>NaN</td>\n",
       "      <td>NaN</td>\n",
       "      <td>NaN</td>\n",
       "      <td>NaN</td>\n",
       "      <td>NaN</td>\n",
       "      <td>No</td>\n",
       "    </tr>\n",
       "    <tr>\n",
       "      <th>freq</th>\n",
       "      <td>NaN</td>\n",
       "      <td>71840</td>\n",
       "      <td>24</td>\n",
       "      <td>4692</td>\n",
       "      <td>NaN</td>\n",
       "      <td>7717</td>\n",
       "      <td>NaN</td>\n",
       "      <td>NaN</td>\n",
       "      <td>NaN</td>\n",
       "      <td>NaN</td>\n",
       "      <td>NaN</td>\n",
       "      <td>NaN</td>\n",
       "      <td>88208</td>\n",
       "    </tr>\n",
       "    <tr>\n",
       "      <th>first</th>\n",
       "      <td>NaN</td>\n",
       "      <td>NaN</td>\n",
       "      <td>2015-11-10 07:13:56</td>\n",
       "      <td>2016-04-29 00:00:00</td>\n",
       "      <td>NaN</td>\n",
       "      <td>NaN</td>\n",
       "      <td>NaN</td>\n",
       "      <td>NaN</td>\n",
       "      <td>NaN</td>\n",
       "      <td>NaN</td>\n",
       "      <td>NaN</td>\n",
       "      <td>NaN</td>\n",
       "      <td>NaN</td>\n",
       "    </tr>\n",
       "    <tr>\n",
       "      <th>last</th>\n",
       "      <td>NaN</td>\n",
       "      <td>NaN</td>\n",
       "      <td>2016-06-08 20:07:23</td>\n",
       "      <td>2016-06-08 00:00:00</td>\n",
       "      <td>NaN</td>\n",
       "      <td>NaN</td>\n",
       "      <td>NaN</td>\n",
       "      <td>NaN</td>\n",
       "      <td>NaN</td>\n",
       "      <td>NaN</td>\n",
       "      <td>NaN</td>\n",
       "      <td>NaN</td>\n",
       "      <td>NaN</td>\n",
       "    </tr>\n",
       "    <tr>\n",
       "      <th>mean</th>\n",
       "      <td>5.675305e+06</td>\n",
       "      <td>NaN</td>\n",
       "      <td>NaN</td>\n",
       "      <td>NaN</td>\n",
       "      <td>37.089218</td>\n",
       "      <td>NaN</td>\n",
       "      <td>0.098266</td>\n",
       "      <td>0.197246</td>\n",
       "      <td>0.071865</td>\n",
       "      <td>0.030400</td>\n",
       "      <td>0.022248</td>\n",
       "      <td>0.321026</td>\n",
       "      <td>NaN</td>\n",
       "    </tr>\n",
       "    <tr>\n",
       "      <th>std</th>\n",
       "      <td>7.129575e+04</td>\n",
       "      <td>NaN</td>\n",
       "      <td>NaN</td>\n",
       "      <td>NaN</td>\n",
       "      <td>23.109921</td>\n",
       "      <td>NaN</td>\n",
       "      <td>0.297675</td>\n",
       "      <td>0.397921</td>\n",
       "      <td>0.258265</td>\n",
       "      <td>0.171686</td>\n",
       "      <td>0.161543</td>\n",
       "      <td>0.466873</td>\n",
       "      <td>NaN</td>\n",
       "    </tr>\n",
       "    <tr>\n",
       "      <th>min</th>\n",
       "      <td>5.030230e+06</td>\n",
       "      <td>NaN</td>\n",
       "      <td>NaN</td>\n",
       "      <td>NaN</td>\n",
       "      <td>0.000000</td>\n",
       "      <td>NaN</td>\n",
       "      <td>0.000000</td>\n",
       "      <td>0.000000</td>\n",
       "      <td>0.000000</td>\n",
       "      <td>0.000000</td>\n",
       "      <td>0.000000</td>\n",
       "      <td>0.000000</td>\n",
       "      <td>NaN</td>\n",
       "    </tr>\n",
       "    <tr>\n",
       "      <th>25%</th>\n",
       "      <td>5.640286e+06</td>\n",
       "      <td>NaN</td>\n",
       "      <td>NaN</td>\n",
       "      <td>NaN</td>\n",
       "      <td>18.000000</td>\n",
       "      <td>NaN</td>\n",
       "      <td>0.000000</td>\n",
       "      <td>0.000000</td>\n",
       "      <td>0.000000</td>\n",
       "      <td>0.000000</td>\n",
       "      <td>0.000000</td>\n",
       "      <td>0.000000</td>\n",
       "      <td>NaN</td>\n",
       "    </tr>\n",
       "    <tr>\n",
       "      <th>50%</th>\n",
       "      <td>5.680573e+06</td>\n",
       "      <td>NaN</td>\n",
       "      <td>NaN</td>\n",
       "      <td>NaN</td>\n",
       "      <td>37.000000</td>\n",
       "      <td>NaN</td>\n",
       "      <td>0.000000</td>\n",
       "      <td>0.000000</td>\n",
       "      <td>0.000000</td>\n",
       "      <td>0.000000</td>\n",
       "      <td>0.000000</td>\n",
       "      <td>0.000000</td>\n",
       "      <td>NaN</td>\n",
       "    </tr>\n",
       "    <tr>\n",
       "      <th>75%</th>\n",
       "      <td>5.725524e+06</td>\n",
       "      <td>NaN</td>\n",
       "      <td>NaN</td>\n",
       "      <td>NaN</td>\n",
       "      <td>55.000000</td>\n",
       "      <td>NaN</td>\n",
       "      <td>0.000000</td>\n",
       "      <td>0.000000</td>\n",
       "      <td>0.000000</td>\n",
       "      <td>0.000000</td>\n",
       "      <td>0.000000</td>\n",
       "      <td>1.000000</td>\n",
       "      <td>NaN</td>\n",
       "    </tr>\n",
       "    <tr>\n",
       "      <th>max</th>\n",
       "      <td>5.790484e+06</td>\n",
       "      <td>NaN</td>\n",
       "      <td>NaN</td>\n",
       "      <td>NaN</td>\n",
       "      <td>115.000000</td>\n",
       "      <td>NaN</td>\n",
       "      <td>1.000000</td>\n",
       "      <td>1.000000</td>\n",
       "      <td>1.000000</td>\n",
       "      <td>1.000000</td>\n",
       "      <td>4.000000</td>\n",
       "      <td>1.000000</td>\n",
       "      <td>NaN</td>\n",
       "    </tr>\n",
       "  </tbody>\n",
       "</table>\n",
       "</div>"
      ],
      "text/plain": [
       "        AppointmentID  Gender         ScheduledDay       AppointmentDay  \\\n",
       "count    1.105270e+05  110527               110527               110527   \n",
       "unique            NaN       2               103549                   27   \n",
       "top               NaN       F  2016-05-06 07:09:54  2016-06-06 00:00:00   \n",
       "freq              NaN   71840                   24                 4692   \n",
       "first             NaN     NaN  2015-11-10 07:13:56  2016-04-29 00:00:00   \n",
       "last              NaN     NaN  2016-06-08 20:07:23  2016-06-08 00:00:00   \n",
       "mean     5.675305e+06     NaN                  NaN                  NaN   \n",
       "std      7.129575e+04     NaN                  NaN                  NaN   \n",
       "min      5.030230e+06     NaN                  NaN                  NaN   \n",
       "25%      5.640286e+06     NaN                  NaN                  NaN   \n",
       "50%      5.680573e+06     NaN                  NaN                  NaN   \n",
       "75%      5.725524e+06     NaN                  NaN                  NaN   \n",
       "max      5.790484e+06     NaN                  NaN                  NaN   \n",
       "\n",
       "                  Age   Neighbourhood    Scholarship   Hipertension  \\\n",
       "count   110527.000000          110527  110527.000000  110527.000000   \n",
       "unique            NaN              81            NaN            NaN   \n",
       "top               NaN  JARDIM CAMBURI            NaN            NaN   \n",
       "freq              NaN            7717            NaN            NaN   \n",
       "first             NaN             NaN            NaN            NaN   \n",
       "last              NaN             NaN            NaN            NaN   \n",
       "mean        37.089218             NaN       0.098266       0.197246   \n",
       "std         23.109921             NaN       0.297675       0.397921   \n",
       "min          0.000000             NaN       0.000000       0.000000   \n",
       "25%         18.000000             NaN       0.000000       0.000000   \n",
       "50%         37.000000             NaN       0.000000       0.000000   \n",
       "75%         55.000000             NaN       0.000000       0.000000   \n",
       "max        115.000000             NaN       1.000000       1.000000   \n",
       "\n",
       "             Diabetes     Alcoholism        Handcap   SMS_received No-show  \n",
       "count   110527.000000  110527.000000  110527.000000  110527.000000  110527  \n",
       "unique            NaN            NaN            NaN            NaN       2  \n",
       "top               NaN            NaN            NaN            NaN      No  \n",
       "freq              NaN            NaN            NaN            NaN   88208  \n",
       "first             NaN            NaN            NaN            NaN     NaN  \n",
       "last              NaN            NaN            NaN            NaN     NaN  \n",
       "mean         0.071865       0.030400       0.022248       0.321026     NaN  \n",
       "std          0.258265       0.171686       0.161543       0.466873     NaN  \n",
       "min          0.000000       0.000000       0.000000       0.000000     NaN  \n",
       "25%          0.000000       0.000000       0.000000       0.000000     NaN  \n",
       "50%          0.000000       0.000000       0.000000       0.000000     NaN  \n",
       "75%          0.000000       0.000000       0.000000       1.000000     NaN  \n",
       "max          1.000000       1.000000       4.000000       1.000000     NaN  "
      ]
     },
     "execution_count": 32,
     "metadata": {},
     "output_type": "execute_result"
    }
   ],
   "source": [
    "medical_appointments.describe(include=\"all\")\n",
    "# I have showed again a descriptive statistics of the fields in the dataset to check the correctness of the last step. "
   ]
  },
  {
   "cell_type": "code",
   "execution_count": 33,
   "metadata": {
    "scrolled": true
   },
   "outputs": [
    {
     "data": {
      "text/html": [
       "<div>\n",
       "<style>\n",
       "    .dataframe thead tr:only-child th {\n",
       "        text-align: right;\n",
       "    }\n",
       "\n",
       "    .dataframe thead th {\n",
       "        text-align: left;\n",
       "    }\n",
       "\n",
       "    .dataframe tbody tr th {\n",
       "        vertical-align: top;\n",
       "    }\n",
       "</style>\n",
       "<table border=\"1\" class=\"dataframe\">\n",
       "  <thead>\n",
       "    <tr style=\"text-align: right;\">\n",
       "      <th></th>\n",
       "      <th>AppointmentID</th>\n",
       "      <th>Gender</th>\n",
       "      <th>ScheduledDay</th>\n",
       "      <th>AppointmentDay</th>\n",
       "      <th>Age</th>\n",
       "      <th>Neighbourhood</th>\n",
       "      <th>Scholarship</th>\n",
       "      <th>Hipertension</th>\n",
       "      <th>Diabetes</th>\n",
       "      <th>Alcoholism</th>\n",
       "      <th>Handcap</th>\n",
       "      <th>SMS_received</th>\n",
       "      <th>No-show</th>\n",
       "      <th>Year</th>\n",
       "      <th>Month</th>\n",
       "      <th>Day</th>\n",
       "      <th>Week</th>\n",
       "      <th>Weekday</th>\n",
       "      <th>Quarter</th>\n",
       "      <th>Hour</th>\n",
       "    </tr>\n",
       "    <tr>\n",
       "      <th>PatientId</th>\n",
       "      <th></th>\n",
       "      <th></th>\n",
       "      <th></th>\n",
       "      <th></th>\n",
       "      <th></th>\n",
       "      <th></th>\n",
       "      <th></th>\n",
       "      <th></th>\n",
       "      <th></th>\n",
       "      <th></th>\n",
       "      <th></th>\n",
       "      <th></th>\n",
       "      <th></th>\n",
       "      <th></th>\n",
       "      <th></th>\n",
       "      <th></th>\n",
       "      <th></th>\n",
       "      <th></th>\n",
       "      <th></th>\n",
       "      <th></th>\n",
       "    </tr>\n",
       "  </thead>\n",
       "  <tbody>\n",
       "    <tr>\n",
       "      <th>2.987250e+13</th>\n",
       "      <td>5642903</td>\n",
       "      <td>F</td>\n",
       "      <td>2016-04-29 18:38:08</td>\n",
       "      <td>2016-04-29</td>\n",
       "      <td>62</td>\n",
       "      <td>JARDIM DA PENHA</td>\n",
       "      <td>0</td>\n",
       "      <td>1</td>\n",
       "      <td>0</td>\n",
       "      <td>0</td>\n",
       "      <td>0</td>\n",
       "      <td>0</td>\n",
       "      <td>No</td>\n",
       "      <td>2016</td>\n",
       "      <td>4</td>\n",
       "      <td>29</td>\n",
       "      <td>17</td>\n",
       "      <td>4</td>\n",
       "      <td>2</td>\n",
       "      <td>18</td>\n",
       "    </tr>\n",
       "    <tr>\n",
       "      <th>5.589978e+14</th>\n",
       "      <td>5642503</td>\n",
       "      <td>M</td>\n",
       "      <td>2016-04-29 16:08:27</td>\n",
       "      <td>2016-04-29</td>\n",
       "      <td>56</td>\n",
       "      <td>JARDIM DA PENHA</td>\n",
       "      <td>0</td>\n",
       "      <td>0</td>\n",
       "      <td>0</td>\n",
       "      <td>0</td>\n",
       "      <td>0</td>\n",
       "      <td>0</td>\n",
       "      <td>No</td>\n",
       "      <td>2016</td>\n",
       "      <td>4</td>\n",
       "      <td>29</td>\n",
       "      <td>17</td>\n",
       "      <td>4</td>\n",
       "      <td>2</td>\n",
       "      <td>16</td>\n",
       "    </tr>\n",
       "    <tr>\n",
       "      <th>4.262962e+12</th>\n",
       "      <td>5642549</td>\n",
       "      <td>F</td>\n",
       "      <td>2016-04-29 16:19:04</td>\n",
       "      <td>2016-04-29</td>\n",
       "      <td>62</td>\n",
       "      <td>MATA DA PRAIA</td>\n",
       "      <td>0</td>\n",
       "      <td>0</td>\n",
       "      <td>0</td>\n",
       "      <td>0</td>\n",
       "      <td>0</td>\n",
       "      <td>0</td>\n",
       "      <td>No</td>\n",
       "      <td>2016</td>\n",
       "      <td>4</td>\n",
       "      <td>29</td>\n",
       "      <td>17</td>\n",
       "      <td>4</td>\n",
       "      <td>2</td>\n",
       "      <td>16</td>\n",
       "    </tr>\n",
       "    <tr>\n",
       "      <th>8.679512e+11</th>\n",
       "      <td>5642828</td>\n",
       "      <td>F</td>\n",
       "      <td>2016-04-29 17:29:31</td>\n",
       "      <td>2016-04-29</td>\n",
       "      <td>8</td>\n",
       "      <td>PONTAL DE CAMBURI</td>\n",
       "      <td>0</td>\n",
       "      <td>0</td>\n",
       "      <td>0</td>\n",
       "      <td>0</td>\n",
       "      <td>0</td>\n",
       "      <td>0</td>\n",
       "      <td>No</td>\n",
       "      <td>2016</td>\n",
       "      <td>4</td>\n",
       "      <td>29</td>\n",
       "      <td>17</td>\n",
       "      <td>4</td>\n",
       "      <td>2</td>\n",
       "      <td>17</td>\n",
       "    </tr>\n",
       "    <tr>\n",
       "      <th>8.841186e+12</th>\n",
       "      <td>5642494</td>\n",
       "      <td>F</td>\n",
       "      <td>2016-04-29 16:07:23</td>\n",
       "      <td>2016-04-29</td>\n",
       "      <td>56</td>\n",
       "      <td>JARDIM DA PENHA</td>\n",
       "      <td>0</td>\n",
       "      <td>1</td>\n",
       "      <td>1</td>\n",
       "      <td>0</td>\n",
       "      <td>0</td>\n",
       "      <td>0</td>\n",
       "      <td>No</td>\n",
       "      <td>2016</td>\n",
       "      <td>4</td>\n",
       "      <td>29</td>\n",
       "      <td>17</td>\n",
       "      <td>4</td>\n",
       "      <td>2</td>\n",
       "      <td>16</td>\n",
       "    </tr>\n",
       "  </tbody>\n",
       "</table>\n",
       "</div>"
      ],
      "text/plain": [
       "              AppointmentID Gender        ScheduledDay AppointmentDay  Age  \\\n",
       "PatientId                                                                    \n",
       "2.987250e+13        5642903      F 2016-04-29 18:38:08     2016-04-29   62   \n",
       "5.589978e+14        5642503      M 2016-04-29 16:08:27     2016-04-29   56   \n",
       "4.262962e+12        5642549      F 2016-04-29 16:19:04     2016-04-29   62   \n",
       "8.679512e+11        5642828      F 2016-04-29 17:29:31     2016-04-29    8   \n",
       "8.841186e+12        5642494      F 2016-04-29 16:07:23     2016-04-29   56   \n",
       "\n",
       "                  Neighbourhood  Scholarship  Hipertension  Diabetes  \\\n",
       "PatientId                                                              \n",
       "2.987250e+13    JARDIM DA PENHA            0             1         0   \n",
       "5.589978e+14    JARDIM DA PENHA            0             0         0   \n",
       "4.262962e+12      MATA DA PRAIA            0             0         0   \n",
       "8.679512e+11  PONTAL DE CAMBURI            0             0         0   \n",
       "8.841186e+12    JARDIM DA PENHA            0             1         1   \n",
       "\n",
       "              Alcoholism  Handcap  SMS_received No-show  Year  Month  Day  \\\n",
       "PatientId                                                                   \n",
       "2.987250e+13           0        0             0      No  2016      4   29   \n",
       "5.589978e+14           0        0             0      No  2016      4   29   \n",
       "4.262962e+12           0        0             0      No  2016      4   29   \n",
       "8.679512e+11           0        0             0      No  2016      4   29   \n",
       "8.841186e+12           0        0             0      No  2016      4   29   \n",
       "\n",
       "              Week  Weekday  Quarter  Hour  \n",
       "PatientId                                   \n",
       "2.987250e+13    17        4        2    18  \n",
       "5.589978e+14    17        4        2    16  \n",
       "4.262962e+12    17        4        2    16  \n",
       "8.679512e+11    17        4        2    17  \n",
       "8.841186e+12    17        4        2    16  "
      ]
     },
     "execution_count": 33,
     "metadata": {},
     "output_type": "execute_result"
    }
   ],
   "source": [
    "medical_appointments[\"Year\"] = medical_appointments.AppointmentDay.dt.year\n",
    "medical_appointments[\"Month\"] = medical_appointments.AppointmentDay.dt.month\n",
    "medical_appointments[\"Day\"] = medical_appointments.AppointmentDay.dt.day\n",
    "medical_appointments[\"Week\"] = medical_appointments.AppointmentDay.dt.week\n",
    "medical_appointments[\"Weekday\"] = medical_appointments.AppointmentDay.dt.weekday\n",
    "medical_appointments[\"Quarter\"] = medical_appointments.AppointmentDay.dt.quarter\n",
    "medical_appointments[\"Hour\"] = medical_appointments.ScheduledDay.dt.hour\n",
    "# I've crafted the date-type fields to extract the significant information (year, month, day, week, weekday, quarter, hour) \n",
    "\n",
    "medical_appointments.head()\n",
    "# I have showed the first few lines of the DataFrame to check the correctness of the last step. "
   ]
  },
  {
   "cell_type": "markdown",
   "metadata": {},
   "source": [
    "<a id='eda'></a>\n",
    "## Exploratory Data Analysis\n",
    "\n",
    "> **Tip**: Now that you've trimmed and cleaned your data, you're ready to move on to exploration. Compute statistics and create visualizations with the goal of addressing the research questions that you posed in the Introduction section. It is recommended that you be systematic with your approach. Look at one variable at a time, and then follow it up by looking at relationships between variables.\n",
    "\n",
    "### Research Question 1 How is data distributed by age, days, weeks, weekdays and hours?"
   ]
  },
  {
   "cell_type": "code",
   "execution_count": 34,
   "metadata": {},
   "outputs": [
    {
     "data": {
      "text/plain": [
       "No     88208\n",
       "Yes    22319\n",
       "Name: No-show, dtype: int64"
      ]
     },
     "execution_count": 34,
     "metadata": {},
     "output_type": "execute_result"
    }
   ],
   "source": [
    "#medical_appointments[medical_appointments['No-show'] == 0].groupby('Neighbourhood').count()\n",
    "medical_appointments['No-show'].value_counts()\n",
    "# I displayed the number of records that showed/ didn't show up for their appointments. "
   ]
  },
  {
   "cell_type": "code",
   "execution_count": 35,
   "metadata": {},
   "outputs": [
    {
     "data": {
      "text/html": [
       "<div>\n",
       "<style>\n",
       "    .dataframe thead tr:only-child th {\n",
       "        text-align: right;\n",
       "    }\n",
       "\n",
       "    .dataframe thead th {\n",
       "        text-align: left;\n",
       "    }\n",
       "\n",
       "    .dataframe tbody tr th {\n",
       "        vertical-align: top;\n",
       "    }\n",
       "</style>\n",
       "<table border=\"1\" class=\"dataframe\">\n",
       "  <thead>\n",
       "    <tr style=\"text-align: right;\">\n",
       "      <th></th>\n",
       "      <th>AppointmentID</th>\n",
       "      <th>Gender</th>\n",
       "      <th>ScheduledDay</th>\n",
       "      <th>AppointmentDay</th>\n",
       "      <th>Age</th>\n",
       "      <th>Neighbourhood</th>\n",
       "      <th>Scholarship</th>\n",
       "      <th>Hipertension</th>\n",
       "      <th>Diabetes</th>\n",
       "      <th>Alcoholism</th>\n",
       "      <th>...</th>\n",
       "      <th>SMS_received</th>\n",
       "      <th>No-show</th>\n",
       "      <th>Year</th>\n",
       "      <th>Month</th>\n",
       "      <th>Day</th>\n",
       "      <th>Week</th>\n",
       "      <th>Weekday</th>\n",
       "      <th>Quarter</th>\n",
       "      <th>Hour</th>\n",
       "      <th>Agebins</th>\n",
       "    </tr>\n",
       "    <tr>\n",
       "      <th>PatientId</th>\n",
       "      <th></th>\n",
       "      <th></th>\n",
       "      <th></th>\n",
       "      <th></th>\n",
       "      <th></th>\n",
       "      <th></th>\n",
       "      <th></th>\n",
       "      <th></th>\n",
       "      <th></th>\n",
       "      <th></th>\n",
       "      <th></th>\n",
       "      <th></th>\n",
       "      <th></th>\n",
       "      <th></th>\n",
       "      <th></th>\n",
       "      <th></th>\n",
       "      <th></th>\n",
       "      <th></th>\n",
       "      <th></th>\n",
       "      <th></th>\n",
       "      <th></th>\n",
       "    </tr>\n",
       "  </thead>\n",
       "  <tbody>\n",
       "    <tr>\n",
       "      <th>2.987250e+13</th>\n",
       "      <td>5642903</td>\n",
       "      <td>F</td>\n",
       "      <td>2016-04-29 18:38:08</td>\n",
       "      <td>2016-04-29</td>\n",
       "      <td>62</td>\n",
       "      <td>JARDIM DA PENHA</td>\n",
       "      <td>0</td>\n",
       "      <td>1</td>\n",
       "      <td>0</td>\n",
       "      <td>0</td>\n",
       "      <td>...</td>\n",
       "      <td>0</td>\n",
       "      <td>No</td>\n",
       "      <td>2016</td>\n",
       "      <td>4</td>\n",
       "      <td>29</td>\n",
       "      <td>17</td>\n",
       "      <td>4</td>\n",
       "      <td>2</td>\n",
       "      <td>18</td>\n",
       "      <td>6</td>\n",
       "    </tr>\n",
       "    <tr>\n",
       "      <th>5.589978e+14</th>\n",
       "      <td>5642503</td>\n",
       "      <td>M</td>\n",
       "      <td>2016-04-29 16:08:27</td>\n",
       "      <td>2016-04-29</td>\n",
       "      <td>56</td>\n",
       "      <td>JARDIM DA PENHA</td>\n",
       "      <td>0</td>\n",
       "      <td>0</td>\n",
       "      <td>0</td>\n",
       "      <td>0</td>\n",
       "      <td>...</td>\n",
       "      <td>0</td>\n",
       "      <td>No</td>\n",
       "      <td>2016</td>\n",
       "      <td>4</td>\n",
       "      <td>29</td>\n",
       "      <td>17</td>\n",
       "      <td>4</td>\n",
       "      <td>2</td>\n",
       "      <td>16</td>\n",
       "      <td>5</td>\n",
       "    </tr>\n",
       "    <tr>\n",
       "      <th>4.262962e+12</th>\n",
       "      <td>5642549</td>\n",
       "      <td>F</td>\n",
       "      <td>2016-04-29 16:19:04</td>\n",
       "      <td>2016-04-29</td>\n",
       "      <td>62</td>\n",
       "      <td>MATA DA PRAIA</td>\n",
       "      <td>0</td>\n",
       "      <td>0</td>\n",
       "      <td>0</td>\n",
       "      <td>0</td>\n",
       "      <td>...</td>\n",
       "      <td>0</td>\n",
       "      <td>No</td>\n",
       "      <td>2016</td>\n",
       "      <td>4</td>\n",
       "      <td>29</td>\n",
       "      <td>17</td>\n",
       "      <td>4</td>\n",
       "      <td>2</td>\n",
       "      <td>16</td>\n",
       "      <td>6</td>\n",
       "    </tr>\n",
       "    <tr>\n",
       "      <th>8.679512e+11</th>\n",
       "      <td>5642828</td>\n",
       "      <td>F</td>\n",
       "      <td>2016-04-29 17:29:31</td>\n",
       "      <td>2016-04-29</td>\n",
       "      <td>8</td>\n",
       "      <td>PONTAL DE CAMBURI</td>\n",
       "      <td>0</td>\n",
       "      <td>0</td>\n",
       "      <td>0</td>\n",
       "      <td>0</td>\n",
       "      <td>...</td>\n",
       "      <td>0</td>\n",
       "      <td>No</td>\n",
       "      <td>2016</td>\n",
       "      <td>4</td>\n",
       "      <td>29</td>\n",
       "      <td>17</td>\n",
       "      <td>4</td>\n",
       "      <td>2</td>\n",
       "      <td>17</td>\n",
       "      <td>0</td>\n",
       "    </tr>\n",
       "    <tr>\n",
       "      <th>8.841186e+12</th>\n",
       "      <td>5642494</td>\n",
       "      <td>F</td>\n",
       "      <td>2016-04-29 16:07:23</td>\n",
       "      <td>2016-04-29</td>\n",
       "      <td>56</td>\n",
       "      <td>JARDIM DA PENHA</td>\n",
       "      <td>0</td>\n",
       "      <td>1</td>\n",
       "      <td>1</td>\n",
       "      <td>0</td>\n",
       "      <td>...</td>\n",
       "      <td>0</td>\n",
       "      <td>No</td>\n",
       "      <td>2016</td>\n",
       "      <td>4</td>\n",
       "      <td>29</td>\n",
       "      <td>17</td>\n",
       "      <td>4</td>\n",
       "      <td>2</td>\n",
       "      <td>16</td>\n",
       "      <td>5</td>\n",
       "    </tr>\n",
       "  </tbody>\n",
       "</table>\n",
       "<p>5 rows × 21 columns</p>\n",
       "</div>"
      ],
      "text/plain": [
       "              AppointmentID Gender        ScheduledDay AppointmentDay  Age  \\\n",
       "PatientId                                                                    \n",
       "2.987250e+13        5642903      F 2016-04-29 18:38:08     2016-04-29   62   \n",
       "5.589978e+14        5642503      M 2016-04-29 16:08:27     2016-04-29   56   \n",
       "4.262962e+12        5642549      F 2016-04-29 16:19:04     2016-04-29   62   \n",
       "8.679512e+11        5642828      F 2016-04-29 17:29:31     2016-04-29    8   \n",
       "8.841186e+12        5642494      F 2016-04-29 16:07:23     2016-04-29   56   \n",
       "\n",
       "                  Neighbourhood  Scholarship  Hipertension  Diabetes  \\\n",
       "PatientId                                                              \n",
       "2.987250e+13    JARDIM DA PENHA            0             1         0   \n",
       "5.589978e+14    JARDIM DA PENHA            0             0         0   \n",
       "4.262962e+12      MATA DA PRAIA            0             0         0   \n",
       "8.679512e+11  PONTAL DE CAMBURI            0             0         0   \n",
       "8.841186e+12    JARDIM DA PENHA            0             1         1   \n",
       "\n",
       "              Alcoholism   ...     SMS_received  No-show  Year  Month  Day  \\\n",
       "PatientId                  ...                                               \n",
       "2.987250e+13           0   ...                0       No  2016      4   29   \n",
       "5.589978e+14           0   ...                0       No  2016      4   29   \n",
       "4.262962e+12           0   ...                0       No  2016      4   29   \n",
       "8.679512e+11           0   ...                0       No  2016      4   29   \n",
       "8.841186e+12           0   ...                0       No  2016      4   29   \n",
       "\n",
       "              Week  Weekday  Quarter  Hour  Agebins  \n",
       "PatientId                                            \n",
       "2.987250e+13    17        4        2    18        6  \n",
       "5.589978e+14    17        4        2    16        5  \n",
       "4.262962e+12    17        4        2    16        6  \n",
       "8.679512e+11    17        4        2    17        0  \n",
       "8.841186e+12    17        4        2    16        5  \n",
       "\n",
       "[5 rows x 21 columns]"
      ]
     },
     "execution_count": 35,
     "metadata": {},
     "output_type": "execute_result"
    }
   ],
   "source": [
    "medical_appointments['Agebins'] = medical_appointments['Age']//10\n",
    "medical_appointments.head()\n",
    "# I have created a column in which I will pur the intervals for age that I will plot latter \n",
    "# and I have displayed a few records to check the correctness of this step. "
   ]
  },
  {
   "cell_type": "code",
   "execution_count": 36,
   "metadata": {},
   "outputs": [
    {
     "data": {
      "text/plain": [
       "Text(0.5,0,'Age in years')"
      ]
     },
     "execution_count": 36,
     "metadata": {},
     "output_type": "execute_result"
    },
    {
     "data": {
      "image/png": "[encoded data removed]",
      "text/plain": [
       "<matplotlib.figure.Figure at 0x7fbf1fd953c8>"
      ]
     },
     "metadata": {
      "needs_background": "light"
     },
     "output_type": "display_data"
    }
   ],
   "source": [
    "medical_appointments['Age'].plot.hist(figsize=(6,6),\n",
    "                                      bins = [0,10,20,30,40,50,60,70,80,90,100],\n",
    "                                      range = (medical_appointments['Age'].min(),110.), \n",
    "                                      align = 'mid', \n",
    "                                      rwidth = 0.95,\n",
    "                                      grid = True,\n",
    "                                      color = '#233d69')\n",
    "plt.xticks(np.arange(0, 120, step=10))\n",
    "plt.title('Distribution of Data by Ages')\n",
    "plt.xlabel('Age in years')"
   ]
  },
  {
   "cell_type": "markdown",
   "metadata": {},
   "source": [
    "Most medical appointments are made by people with age between 0 and 10, followed by the age group of 50 to 60 years. At the opposite side, the fewest appointments are made by people over 70."
   ]
  },
  {
   "cell_type": "code",
   "execution_count": 37,
   "metadata": {},
   "outputs": [
    {
     "data": {
      "text/plain": [
       "Text(0.5,0,'Days')"
      ]
     },
     "execution_count": 37,
     "metadata": {},
     "output_type": "execute_result"
    },
    {
     "data": {
      "image/png": "[encoded data removed]",
      "text/plain": [
       "<matplotlib.figure.Figure at 0x7fbf1f1d09b0>"
      ]
     },
     "metadata": {
      "needs_background": "light"
     },
     "output_type": "display_data"
    }
   ],
   "source": [
    "medical_appointments['Day'].plot.hist(figsize=(6,6),\n",
    "                                      bins = [0,5,10,15,20,25,30,35] ,\n",
    "                                      range = (medical_appointments['Day'].min(),35.),\n",
    "                                      align = 'mid', \n",
    "                                      rwidth = 0.95,\n",
    "                                      grid = True,\n",
    "                                      color = '#233d69')\n",
    "plt.xticks(np.arange(0, 40, step=5))\n",
    "plt.title('Distribution of Data by Days')\n",
    "plt.xlabel('Days')"
   ]
  },
  {
   "cell_type": "markdown",
   "metadata": {},
   "source": [
    "Most appointments are made in the first ten days of the month. The fewest appointments are made in the last ten days of the month."
   ]
  },
  {
   "cell_type": "code",
   "execution_count": 38,
   "metadata": {},
   "outputs": [
    {
     "data": {
      "text/plain": [
       "Text(0.5,0,'Weeks')"
      ]
     },
     "execution_count": 38,
     "metadata": {},
     "output_type": "execute_result"
    },
    {
     "data": {
      "image/png": "[encoded data removed]",
      "text/plain": [
       "<matplotlib.figure.Figure at 0x7fbf1f5fccc0>"
      ]
     },
     "metadata": {
      "needs_background": "light"
     },
     "output_type": "display_data"
    }
   ],
   "source": [
    "medical_appointments['Week'].plot.hist(figsize=(6,6),\n",
    "                                      align = 'mid',\n",
    "                                      range = (medical_appointments['Week'].min(),23.),\n",
    "                                      rwidth = 0.95,\n",
    "                                      grid = True,\n",
    "                                      color = '#233d69')\n",
    "plt.xticks(np.arange(17, 24, step=1))\n",
    "plt.title('Distribution of Data by Weeks')\n",
    "plt.xlabel('Weeks')"
   ]
  },
  {
   "cell_type": "markdown",
   "metadata": {},
   "source": [
    "The weekly factor does not discriminate the data very much, they are approximately evenly distributed."
   ]
  },
  {
   "cell_type": "code",
   "execution_count": 39,
   "metadata": {},
   "outputs": [
    {
     "data": {
      "text/plain": [
       "Text(0.5,0,'Weekdays')"
      ]
     },
     "execution_count": 39,
     "metadata": {},
     "output_type": "execute_result"
    },
    {
     "data": {
      "image/png": "[encoded data removed]",
      "text/plain": [
       "<matplotlib.figure.Figure at 0x7fbf1c478048>"
      ]
     },
     "metadata": {
      "needs_background": "light"
     },
     "output_type": "display_data"
    }
   ],
   "source": [
    "medical_appointments['Weekday'].plot.hist(figsize=(6,6),\n",
    "                                      align = 'mid', \n",
    "                                      rwidth = 0.95,\n",
    "                                      grid = True,\n",
    "                                      color = '#233d69')\n",
    "plt.title('Distribution of Data by Weekdays')\n",
    "plt.xlabel('Weekdays')"
   ]
  },
  {
   "cell_type": "code",
   "execution_count": 40,
   "metadata": {},
   "outputs": [
    {
     "data": {
      "text/plain": [
       "Text(0.5,0,'Hours')"
      ]
     },
     "execution_count": 40,
     "metadata": {},
     "output_type": "execute_result"
    },
    {
     "data": {
      "image/png": "[encoded data removed]",
      "text/plain": [
       "<matplotlib.figure.Figure at 0x7fbf1c850128>"
      ]
     },
     "metadata": {
      "needs_background": "light"
     },
     "output_type": "display_data"
    }
   ],
   "source": [
    "medical_appointments['Hour'].plot.hist(figsize=(6,6),\n",
    "                                      bins = [6,8,10,12,14,16,18,20,22] ,\n",
    "                                      range = (medical_appointments['Day'].min(),22.),\n",
    "                                      align = 'mid', \n",
    "                                      rwidth = 0.95,\n",
    "                                      grid = True,\n",
    "                                      color = '#233d69')\n",
    "plt.xticks(np.arange(6, 24, step=2))\n",
    "plt.title('Distribution of Data by Hours')\n",
    "plt.xlabel('Hours')"
   ]
  },
  {
   "cell_type": "markdown",
   "metadata": {},
   "source": [
    "Most appointments are made on Tuesdays and Wednesdays, while the fewest appointments are made on Thursdays."
   ]
  },
  {
   "cell_type": "markdown",
   "metadata": {},
   "source": [
    "### Research Question 2  In what proportion people are showing up for their medical appointments judging by age, day of the week, day of the month, etc?"
   ]
  },
  {
   "cell_type": "code",
   "execution_count": 41,
   "metadata": {
    "scrolled": false
   },
   "outputs": [
    {
     "data": {
      "text/plain": [
       "Text(0,0.5,'Proportion')"
      ]
     },
     "execution_count": 41,
     "metadata": {},
     "output_type": "execute_result"
    },
    {
     "data": {
      "image/png": "[encoded data removed]",
      "text/plain": [
       "<matplotlib.figure.Figure at 0x7fbf1fef0d30>"
      ]
     },
     "metadata": {
      "needs_background": "light"
     },
     "output_type": "display_data"
    }
   ],
   "source": [
    "ma = medical_appointments[['Agebins','No-show','AppointmentID']]\n",
    "ages = ma.Agebins.unique()\n",
    "counts = ma.groupby(['Agebins','No-show']).count()\n",
    "totals = counts.sum(level=0)\n",
    "counts = counts.unstack(level=1)\n",
    "counts.columns = counts.columns.droplevel(level=0)\n",
    "counts = counts.fillna(0)\n",
    "plt.figure(figsize=(15,6))\n",
    "plt.bar(ages, counts['No']/(counts['No']+counts['Yes']), color='#233d69', label= 'Proportion attendees')\n",
    "plt.legend()\n",
    "plt.grid(True)\n",
    "plt.xlabel('Ages')\n",
    "plt.ylabel('Proportion')"
   ]
  },
  {
   "cell_type": "markdown",
   "metadata": {},
   "source": [
    "People aged between 10-19, 20-29, 30-39, 40-49, 60-69, 80-89, 90-99, 100-109 year honors their medical appointments in a proportion of at least 80%. At the opposite end, the age intervals in which people do not honor their appointments are 0-9, 50-59, 70-79 and over 110 years."
   ]
  },
  {
   "cell_type": "code",
   "execution_count": 42,
   "metadata": {},
   "outputs": [
    {
     "data": {
      "text/plain": [
       "Text(0,0.5,'Proportion')"
      ]
     },
     "execution_count": 42,
     "metadata": {},
     "output_type": "execute_result"
    },
    {
     "data": {
      "image/png": "[encoded data removed]",
      "text/plain": [
       "<matplotlib.figure.Figure at 0x7fbf1c343f98>"
      ]
     },
     "metadata": {
      "needs_background": "light"
     },
     "output_type": "display_data"
    }
   ],
   "source": [
    "ma = medical_appointments[['Day','No-show','AppointmentID']]\n",
    "days = ma.Day.unique()\n",
    "counts = ma.groupby(['Day','No-show']).count()\n",
    "totals = counts.sum(level=0)\n",
    "counts = counts.unstack(level=1)\n",
    "counts.columns = counts.columns.droplevel(level=0)\n",
    "counts = counts.fillna(0)\n",
    "plt.figure(figsize=(15,6))\n",
    "plt.bar(days,  counts['Yes']/(counts['No']+counts['Yes']), color='#d23c3c', label='Proportion non-attendees')\n",
    "plt.legend()\n",
    "plt.grid(True)\n",
    "plt.xlabel('Month Days')\n",
    "plt.ylabel('Proportion')"
   ]
  },
  {
   "cell_type": "markdown",
   "metadata": {},
   "source": [
    "Assuming that days 15, 21, 22, 23, 26, 27, 28, 29 were days off or for which no data were recorded, days 4, 5, 6, 9, 11, 13, 16, 17, 20 and 25 of the month are the days with the highest percentages of non-attendees."
   ]
  },
  {
   "cell_type": "code",
   "execution_count": 43,
   "metadata": {},
   "outputs": [
    {
     "data": {
      "text/plain": [
       "Text(0,0.5,'Proportion')"
      ]
     },
     "execution_count": 43,
     "metadata": {},
     "output_type": "execute_result"
    },
    {
     "data": {
      "image/png": "[encoded data removed]",
      "text/plain": [
       "<matplotlib.figure.Figure at 0x7fbf1ff05208>"
      ]
     },
     "metadata": {
      "needs_background": "light"
     },
     "output_type": "display_data"
    }
   ],
   "source": [
    "ma = medical_appointments[['Week','No-show','AppointmentID']]\n",
    "weeks = ma.Week.unique()\n",
    "counts = ma.groupby(['Week','No-show']).count()\n",
    "totals = counts.sum(level=0)\n",
    "counts = counts.unstack(level=1)\n",
    "counts.columns = counts.columns.droplevel(level=0)\n",
    "counts = counts.fillna(0)\n",
    "plt.figure(figsize=(9,6))\n",
    "plt.bar(weeks, counts['Yes']/(counts['No']+counts['Yes']), color='#d23c3c', label='Proportion non-attendees')\n",
    "plt.grid(True)\n",
    "plt.legend()\n",
    "plt.xlabel('Weeks')\n",
    "plt.ylabel('Proportion')"
   ]
  },
  {
   "cell_type": "markdown",
   "metadata": {},
   "source": [
    "During the 19th and 20th weeks there was the highest proportion of non-attendees."
   ]
  },
  {
   "cell_type": "code",
   "execution_count": 44,
   "metadata": {},
   "outputs": [
    {
     "data": {
      "text/plain": [
       "Text(0,0.5,'Proportion')"
      ]
     },
     "execution_count": 44,
     "metadata": {},
     "output_type": "execute_result"
    },
    {
     "data": {
      "image/png": "[encoded data removed]",
      "text/plain": [
       "<matplotlib.figure.Figure at 0x7fbf1c343f60>"
      ]
     },
     "metadata": {
      "needs_background": "light"
     },
     "output_type": "display_data"
    }
   ],
   "source": [
    "ma = medical_appointments[['Weekday','No-show','AppointmentID']]\n",
    "weekdays = ma.Weekday.unique()\n",
    "counts = ma.groupby(['Weekday','No-show']).count()\n",
    "totals = counts.sum(level=0)\n",
    "counts = counts.unstack(level=1)\n",
    "counts.columns = counts.columns.droplevel(level=0)\n",
    "counts = counts.fillna(0)\n",
    "plt.figure(figsize=(9,6))\n",
    "plt.bar(weekdays, counts['Yes']/(counts['No']+counts['Yes']), color='#d23c3c', label='Proportion non-attendees')\n",
    "plt.grid(True)\n",
    "plt.legend()\n",
    "plt.xlabel('Weekdays')\n",
    "plt.ylabel('Proportion')\n"
   ]
  },
  {
   "cell_type": "markdown",
   "metadata": {},
   "source": [
    "The end of the week, especially Saturday, is part of the week with the highest proportion of non-attendees."
   ]
  },
  {
   "cell_type": "code",
   "execution_count": 45,
   "metadata": {},
   "outputs": [
    {
     "data": {
      "text/plain": [
       "Text(0,0.5,'Count')"
      ]
     },
     "execution_count": 45,
     "metadata": {},
     "output_type": "execute_result"
    },
    {
     "data": {
      "image/png": "[encoded data removed]",
      "text/plain": [
       "<matplotlib.figure.Figure at 0x7fbf1c7fd550>"
      ]
     },
     "metadata": {
      "needs_background": "light"
     },
     "output_type": "display_data"
    }
   ],
   "source": [
    "ma = medical_appointments[['Hour','No-show','AppointmentID']]\n",
    "hours = ma.Hour.unique()\n",
    "counts = ma.groupby(['Hour','No-show']).count()\n",
    "totals = counts.sum(level=0)\n",
    "counts = counts.unstack(level=1)\n",
    "counts.columns = counts.columns.droplevel(level=0)\n",
    "counts = counts.fillna(0)\n",
    "plt.figure(figsize=(9,6))\n",
    "plt.bar(hours, counts['Yes']/(counts['No']+counts['Yes']), color='#d23c3c', label='Proportion non-attendees')\n",
    "plt.grid(True)\n",
    "plt.legend()\n",
    "plt.xlabel('Hours')\n",
    "plt.ylabel('Count')\n"
   ]
  },
  {
   "cell_type": "markdown",
   "metadata": {},
   "source": [
    "At the beginning and at the end of the work program, the proportion of non-attendees is the highest."
   ]
  },
  {
   "cell_type": "markdown",
   "metadata": {},
   "source": [
    "<a id='conclusions'></a>\n",
    "## Conclusions\n",
    "\n",
    ">In conclusion, from the analysis, the phenomenon of non-presence is frequently associated with people aged 0-9, 50-59, 70-79 and over 110 years, with appointments made on days 4, 5, 6, 9, 11, 13, 16, 17, 20 and 25 of the month, on weeks 19 and 20, on Thursday, Friday and Saturday, and at the beginning or the end of the appointment schedule.\n",
    "\n",
    "\n"
   ]
  },
  {
   "cell_type": "code",
   "execution_count": 46,
   "metadata": {},
   "outputs": [
    {
     "data": {
      "text/plain": [
       "0"
      ]
     },
     "execution_count": 46,
     "metadata": {},
     "output_type": "execute_result"
    }
   ],
   "source": [
    "from subprocess import call\n",
    "call(['python', '-m', 'nbconvert', 'Investigate_a_Dataset.ipynb'])"
   ]
  },
  {
   "cell_type": "code",
   "execution_count": null,
   "metadata": {},
   "outputs": [],
   "source": []
  }
 ],
 "metadata": {
  "kernelspec": {
   "display_name": "Python 3",
   "language": "python",
   "name": "python3"
  },
  "language_info": {
   "codemirror_mode": {
    "name": "ipython",
    "version": 3
   },
   "file_extension": ".py",
   "mimetype": "text/x-python",
   "name": "python",
   "nbconvert_exporter": "python",
   "pygments_lexer": "ipython3",
   "version": "3.6.3"
  }
 },
 "nbformat": 4,
 "nbformat_minor": 2
}
